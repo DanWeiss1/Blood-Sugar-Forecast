{
 "cells": [
  {
   "cell_type": "code",
   "execution_count": 25,
   "metadata": {},
   "outputs": [],
   "source": [
    "import math\n",
    "\n",
    "import numpy as np\n",
    "import pandas as pd\n",
    "from matplotlib import pyplot as plt\n",
    "import seaborn as sns \n",
    "sns.set()\n",
    "from keras.models import Model\n",
    "from keras.callbacks import ModelCheckpoint\n",
    "from keras.layers import (\n",
    "    Dense,\n",
    "    Input,\n",
    "    Bidirectional,\n",
    "    Dropout,\n",
    "    LSTM,\n",
    ")\n",
    "import keras.backend as K"
   ]
  },
  {
   "cell_type": "code",
   "execution_count": 6,
   "metadata": {},
   "outputs": [],
   "source": [
    "df = pd.read_csv('health.csv')\n",
    "values = df['blood sugar'].values"
   ]
  },
  {
   "cell_type": "code",
   "execution_count": 26,
   "metadata": {},
   "outputs": [],
   "source": [
    "prediction_window  = 3\n",
    "seed_window = 10\n",
    "X_train = []\n",
    "y_train = []\n",
    "X_test = []\n",
    "y_test = []\n",
    "\n",
    "train_size = math.ceil(len(values) * .66)\n",
    "test_size = len(values) - train_size\n",
    "for i in range(train_size - (prediction_window + seed_window)):\n",
    "    X_train.append(values[i:i + seed_window])\n",
    "    y_train.append(values[i + seed_window:i + seed_window + prediction_window])\n",
    "\n",
    "for i in range(train_size+1,len(values) - (prediction_window + seed_window) ):\n",
    "    X_test.append(values[i:i + seed_window])\n",
    "    y_test.append(values[i + seed_window:i + seed_window + prediction_window])\n",
    "\n",
    "X_train = np.row_stack(X_train)\n",
    "y_train = np.row_stack(y_train)\n",
    "X_train = X_train[:, :, np.newaxis]\n",
    "X_test = np.row_stack(X_test)\n",
    "y_test = np.row_stack(y_test)\n",
    "X_test = X_test[:, :, np.newaxis]"
   ]
  },
  {
   "cell_type": "code",
   "execution_count": 27,
   "metadata": {},
   "outputs": [
    {
     "data": {
      "text/plain": [
       "(14884, 3)"
      ]
     },
     "execution_count": 27,
     "metadata": {},
     "output_type": "execute_result"
    }
   ],
   "source": [
    "y_train.shape"
   ]
  },
  {
   "cell_type": "code",
   "execution_count": 28,
   "metadata": {},
   "outputs": [
    {
     "data": {
      "text/plain": [
       "(14884, 10, 1)"
      ]
     },
     "execution_count": 28,
     "metadata": {},
     "output_type": "execute_result"
    }
   ],
   "source": [
    "X_train.shape"
   ]
  },
  {
   "cell_type": "code",
   "execution_count": 29,
   "metadata": {},
   "outputs": [
    {
     "data": {
      "text/plain": [
       "(7660, 10, 1)"
      ]
     },
     "execution_count": 29,
     "metadata": {},
     "output_type": "execute_result"
    }
   ],
   "source": [
    "X_test.shape"
   ]
  },
  {
   "cell_type": "code",
   "execution_count": 30,
   "metadata": {},
   "outputs": [
    {
     "data": {
      "text/plain": [
       "(7660, 3)"
      ]
     },
     "execution_count": 30,
     "metadata": {},
     "output_type": "execute_result"
    }
   ],
   "source": [
    "y_test.shape"
   ]
  },
  {
   "cell_type": "code",
   "execution_count": 31,
   "metadata": {},
   "outputs": [
    {
     "data": {
      "text/plain": [
       "(22571,)"
      ]
     },
     "execution_count": 31,
     "metadata": {},
     "output_type": "execute_result"
    }
   ],
   "source": [
    "values.shape"
   ]
  },
  {
   "cell_type": "code",
   "execution_count": 23,
   "metadata": {},
   "outputs": [
    {
     "data": {
      "text/html": [
       "<div>\n",
       "<style scoped>\n",
       "    .dataframe tbody tr th:only-of-type {\n",
       "        vertical-align: middle;\n",
       "    }\n",
       "\n",
       "    .dataframe tbody tr th {\n",
       "        vertical-align: top;\n",
       "    }\n",
       "\n",
       "    .dataframe thead th {\n",
       "        text-align: right;\n",
       "    }\n",
       "</style>\n",
       "<table border=\"1\" class=\"dataframe\">\n",
       "  <thead>\n",
       "    <tr style=\"text-align: right;\">\n",
       "      <th></th>\n",
       "      <th>Unnamed: 0</th>\n",
       "      <th>Steps</th>\n",
       "      <th>Flights</th>\n",
       "      <th>Finish</th>\n",
       "      <th>Hour</th>\n",
       "      <th>date</th>\n",
       "      <th>blood sugar</th>\n",
       "      <th>lag_1</th>\n",
       "      <th>lag_2</th>\n",
       "      <th>lag_3</th>\n",
       "      <th>lag_4</th>\n",
       "      <th>lag_5</th>\n",
       "      <th>lag_6</th>\n",
       "      <th>lag_7</th>\n",
       "      <th>lag_8</th>\n",
       "      <th>lag_9</th>\n",
       "    </tr>\n",
       "  </thead>\n",
       "  <tbody>\n",
       "    <tr>\n",
       "      <th>0</th>\n",
       "      <td>0</td>\n",
       "      <td>0.0</td>\n",
       "      <td>0.0</td>\n",
       "      <td>2018-03-07 00:00:00</td>\n",
       "      <td>2018-03-07 00:00:00</td>\n",
       "      <td>2018-03-07 00:00:21</td>\n",
       "      <td>104.0</td>\n",
       "      <td>NaN</td>\n",
       "      <td>NaN</td>\n",
       "      <td>NaN</td>\n",
       "      <td>NaN</td>\n",
       "      <td>NaN</td>\n",
       "      <td>NaN</td>\n",
       "      <td>NaN</td>\n",
       "      <td>NaN</td>\n",
       "      <td>NaN</td>\n",
       "    </tr>\n",
       "    <tr>\n",
       "      <th>1</th>\n",
       "      <td>1</td>\n",
       "      <td>0.0</td>\n",
       "      <td>0.0</td>\n",
       "      <td>2018-03-07 00:00:00</td>\n",
       "      <td>2018-03-07 00:00:00</td>\n",
       "      <td>2018-03-07 00:05:20</td>\n",
       "      <td>101.0</td>\n",
       "      <td>104.0</td>\n",
       "      <td>NaN</td>\n",
       "      <td>NaN</td>\n",
       "      <td>NaN</td>\n",
       "      <td>NaN</td>\n",
       "      <td>NaN</td>\n",
       "      <td>NaN</td>\n",
       "      <td>NaN</td>\n",
       "      <td>NaN</td>\n",
       "    </tr>\n",
       "    <tr>\n",
       "      <th>2</th>\n",
       "      <td>2</td>\n",
       "      <td>0.0</td>\n",
       "      <td>0.0</td>\n",
       "      <td>2018-03-07 00:00:00</td>\n",
       "      <td>2018-03-07 00:00:00</td>\n",
       "      <td>2018-03-07 00:10:20</td>\n",
       "      <td>98.0</td>\n",
       "      <td>101.0</td>\n",
       "      <td>104.0</td>\n",
       "      <td>NaN</td>\n",
       "      <td>NaN</td>\n",
       "      <td>NaN</td>\n",
       "      <td>NaN</td>\n",
       "      <td>NaN</td>\n",
       "      <td>NaN</td>\n",
       "      <td>NaN</td>\n",
       "    </tr>\n",
       "    <tr>\n",
       "      <th>3</th>\n",
       "      <td>3</td>\n",
       "      <td>0.0</td>\n",
       "      <td>0.0</td>\n",
       "      <td>2018-03-07 00:00:00</td>\n",
       "      <td>2018-03-07 00:00:00</td>\n",
       "      <td>2018-03-07 00:15:20</td>\n",
       "      <td>95.0</td>\n",
       "      <td>98.0</td>\n",
       "      <td>101.0</td>\n",
       "      <td>104.0</td>\n",
       "      <td>NaN</td>\n",
       "      <td>NaN</td>\n",
       "      <td>NaN</td>\n",
       "      <td>NaN</td>\n",
       "      <td>NaN</td>\n",
       "      <td>NaN</td>\n",
       "    </tr>\n",
       "    <tr>\n",
       "      <th>4</th>\n",
       "      <td>4</td>\n",
       "      <td>0.0</td>\n",
       "      <td>0.0</td>\n",
       "      <td>2018-03-07 00:00:00</td>\n",
       "      <td>2018-03-07 00:00:00</td>\n",
       "      <td>2018-03-07 00:20:19</td>\n",
       "      <td>91.0</td>\n",
       "      <td>95.0</td>\n",
       "      <td>98.0</td>\n",
       "      <td>101.0</td>\n",
       "      <td>104.0</td>\n",
       "      <td>NaN</td>\n",
       "      <td>NaN</td>\n",
       "      <td>NaN</td>\n",
       "      <td>NaN</td>\n",
       "      <td>NaN</td>\n",
       "    </tr>\n",
       "  </tbody>\n",
       "</table>\n",
       "</div>"
      ],
      "text/plain": [
       "   Unnamed: 0  Steps  Flights               Finish                 Hour  \\\n",
       "0           0    0.0      0.0  2018-03-07 00:00:00  2018-03-07 00:00:00   \n",
       "1           1    0.0      0.0  2018-03-07 00:00:00  2018-03-07 00:00:00   \n",
       "2           2    0.0      0.0  2018-03-07 00:00:00  2018-03-07 00:00:00   \n",
       "3           3    0.0      0.0  2018-03-07 00:00:00  2018-03-07 00:00:00   \n",
       "4           4    0.0      0.0  2018-03-07 00:00:00  2018-03-07 00:00:00   \n",
       "\n",
       "                  date  blood sugar  lag_1  lag_2  lag_3  lag_4  lag_5  lag_6  \\\n",
       "0  2018-03-07 00:00:21        104.0    NaN    NaN    NaN    NaN    NaN    NaN   \n",
       "1  2018-03-07 00:05:20        101.0  104.0    NaN    NaN    NaN    NaN    NaN   \n",
       "2  2018-03-07 00:10:20         98.0  101.0  104.0    NaN    NaN    NaN    NaN   \n",
       "3  2018-03-07 00:15:20         95.0   98.0  101.0  104.0    NaN    NaN    NaN   \n",
       "4  2018-03-07 00:20:19         91.0   95.0   98.0  101.0  104.0    NaN    NaN   \n",
       "\n",
       "   lag_7  lag_8  lag_9  \n",
       "0    NaN    NaN    NaN  \n",
       "1    NaN    NaN    NaN  \n",
       "2    NaN    NaN    NaN  \n",
       "3    NaN    NaN    NaN  \n",
       "4    NaN    NaN    NaN  "
      ]
     },
     "execution_count": 23,
     "metadata": {},
     "output_type": "execute_result"
    }
   ],
   "source": [
    "df.head()"
   ]
  },
  {
   "cell_type": "code",
   "execution_count": 32,
   "metadata": {},
   "outputs": [
    {
     "name": "stdout",
     "output_type": "stream",
     "text": [
      "_________________________________________________________________\n",
      "Layer (type)                 Output Shape              Param #   \n",
      "=================================================================\n",
      "input_1 (InputLayer)         (None, None, 1)           0         \n",
      "_________________________________________________________________\n",
      "lstm_1 (LSTM)                (None, 64)                16896     \n",
      "_________________________________________________________________\n",
      "dense_1 (Dense)              (None, 3)                 195       \n",
      "=================================================================\n",
      "Total params: 17,091\n",
      "Trainable params: 17,091\n",
      "Non-trainable params: 0\n",
      "_________________________________________________________________\n"
     ]
    }
   ],
   "source": [
    "K.clear_session()\n",
    "# You'll probably need to increase recur_size \n",
    "# with more complex curves or larger windows.\n",
    "recur_size = 64\n",
    "feature_vector_size = 1\n",
    "\n",
    "inputs = Input(shape=(None, feature_vector_size))\n",
    "x = (LSTM(recur_size))(inputs)\n",
    "outputs = Dense(prediction_window, activation='linear')(x)\n",
    "model = Model(inputs=inputs, outputs=outputs)\n",
    "model.compile(loss='mse', optimizer='rmsprop', metrics=['mse', 'mae', 'mape'])\n",
    "\n",
    "model.summary()"
   ]
  },
  {
   "cell_type": "code",
   "execution_count": 33,
   "metadata": {},
   "outputs": [
    {
     "name": "stdout",
     "output_type": "stream",
     "text": [
      "Train on 14884 samples, validate on 7660 samples\n",
      "Epoch 1/50\n",
      "14884/14884 [==============================] - 3s 235us/step - loss: 25104.5890 - mean_squared_error: 25104.5890 - mean_absolute_error: 146.1475 - mean_absolute_percentage_error: 97.6925 - val_loss: 28214.0489 - val_mean_squared_error: 28214.0489 - val_mean_absolute_error: 153.7109 - val_mean_absolute_percentage_error: 96.4263\n",
      "Epoch 2/50\n",
      "14884/14884 [==============================] - 3s 196us/step - loss: 24202.7248 - mean_squared_error: 24202.7248 - mean_absolute_error: 143.0249 - mean_absolute_percentage_error: 95.1470 - val_loss: 27374.3290 - val_mean_squared_error: 27374.3290 - val_mean_absolute_error: 150.9489 - val_mean_absolute_percentage_error: 94.2736\n",
      "Epoch 3/50\n",
      "14884/14884 [==============================] - 3s 203us/step - loss: 23416.0909 - mean_squared_error: 23416.0909 - mean_absolute_error: 140.2439 - mean_absolute_percentage_error: 92.8864 - val_loss: 26540.6799 - val_mean_squared_error: 26540.6799 - val_mean_absolute_error: 148.1622 - val_mean_absolute_percentage_error: 92.1070\n",
      "Epoch 4/50\n",
      "14884/14884 [==============================] - 3s 193us/step - loss: 22656.6680 - mean_squared_error: 22656.6680 - mean_absolute_error: 137.5159 - mean_absolute_percentage_error: 90.6749 - val_loss: 25748.9408 - val_mean_squared_error: 25748.9408 - val_mean_absolute_error: 145.4658 - val_mean_absolute_percentage_error: 90.0106\n",
      "Epoch 5/50\n",
      "14884/14884 [==============================] - 3s 197us/step - loss: 21911.4081 - mean_squared_error: 21911.4081 - mean_absolute_error: 134.7773 - mean_absolute_percentage_error: 88.4501 - val_loss: 24933.4000 - val_mean_squared_error: 24933.4000 - val_mean_absolute_error: 142.6344 - val_mean_absolute_percentage_error: 87.8093\n",
      "Epoch 6/50\n",
      "14884/14884 [==============================] - 3s 208us/step - loss: 21093.4284 - mean_squared_error: 21093.4284 - mean_absolute_error: 131.6948 - mean_absolute_percentage_error: 85.9370 - val_loss: 23995.2123 - val_mean_squared_error: 23995.2123 - val_mean_absolute_error: 139.3059 - val_mean_absolute_percentage_error: 85.2214\n",
      "Epoch 7/50\n",
      "14884/14884 [==============================] - 3s 206us/step - loss: 20262.9596 - mean_squared_error: 20262.9596 - mean_absolute_error: 128.5191 - mean_absolute_percentage_error: 83.3689 - val_loss: 23171.5032 - val_mean_squared_error: 23171.5032 - val_mean_absolute_error: 136.3120 - val_mean_absolute_percentage_error: 82.8886\n",
      "Epoch 8/50\n",
      "14884/14884 [==============================] - 3s 217us/step - loss: 19466.6721 - mean_squared_error: 19466.6721 - mean_absolute_error: 125.3808 - mean_absolute_percentage_error: 80.8186 - val_loss: 22308.6152 - val_mean_squared_error: 22308.6152 - val_mean_absolute_error: 133.1156 - val_mean_absolute_percentage_error: 80.4087\n",
      "Epoch 9/50\n",
      "14884/14884 [==============================] - 3s 211us/step - loss: 18697.5926 - mean_squared_error: 18697.5926 - mean_absolute_error: 122.2712 - mean_absolute_percentage_error: 78.2904 - val_loss: 21477.3623 - val_mean_squared_error: 21477.3623 - val_mean_absolute_error: 129.9054 - val_mean_absolute_percentage_error: 77.8668\n",
      "Epoch 10/50\n",
      "14884/14884 [==============================] - 3s 208us/step - loss: 17674.2164 - mean_squared_error: 17674.2164 - mean_absolute_error: 117.9801 - mean_absolute_percentage_error: 74.7878 - val_loss: 20224.2516 - val_mean_squared_error: 20224.2516 - val_mean_absolute_error: 125.0278 - val_mean_absolute_percentage_error: 74.1030\n",
      "Epoch 11/50\n",
      "14884/14884 [==============================] - 3s 208us/step - loss: 16548.6502 - mean_squared_error: 16548.6502 - mean_absolute_error: 113.1238 - mean_absolute_percentage_error: 70.8541 - val_loss: 19028.9559 - val_mean_squared_error: 19028.9559 - val_mean_absolute_error: 120.1681 - val_mean_absolute_percentage_error: 70.3425\n",
      "Epoch 12/50\n",
      "14884/14884 [==============================] - 3s 216us/step - loss: 15588.0893 - mean_squared_error: 15588.0893 - mean_absolute_error: 108.8273 - mean_absolute_percentage_error: 67.3931 - val_loss: 18053.5747 - val_mean_squared_error: 18053.5747 - val_mean_absolute_error: 116.0651 - val_mean_absolute_percentage_error: 67.1972\n",
      "Epoch 13/50\n",
      "14884/14884 [==============================] - 3s 225us/step - loss: 14704.9283 - mean_squared_error: 14704.9283 - mean_absolute_error: 104.7591 - mean_absolute_percentage_error: 64.2041 - val_loss: 17108.2536 - val_mean_squared_error: 17108.2536 - val_mean_absolute_error: 111.9980 - val_mean_absolute_percentage_error: 64.1671\n",
      "Epoch 14/50\n",
      "14884/14884 [==============================] - 3s 213us/step - loss: 13856.5402 - mean_squared_error: 13856.5402 - mean_absolute_error: 100.7418 - mean_absolute_percentage_error: 61.1291 - val_loss: 16201.8404 - val_mean_squared_error: 16201.8404 - val_mean_absolute_error: 108.0051 - val_mean_absolute_percentage_error: 61.2680\n",
      "Epoch 15/50\n",
      "14884/14884 [==============================] - 3s 212us/step - loss: 13042.0135 - mean_squared_error: 13042.0135 - mean_absolute_error: 96.7819 - mean_absolute_percentage_error: 58.1743 - val_loss: 15325.8270 - val_mean_squared_error: 15325.8270 - val_mean_absolute_error: 104.0499 - val_mean_absolute_percentage_error: 58.4649\n",
      "Epoch 16/50\n",
      "14884/14884 [==============================] - 3s 220us/step - loss: 12260.5534 - mean_squared_error: 12260.5534 - mean_absolute_error: 92.8721 - mean_absolute_percentage_error: 55.3142 - val_loss: 14486.1846 - val_mean_squared_error: 14486.1846 - val_mean_absolute_error: 100.1643 - val_mean_absolute_percentage_error: 55.7778\n",
      "Epoch 17/50\n",
      "14884/14884 [==============================] - 3s 213us/step - loss: 11514.0867 - mean_squared_error: 11514.0867 - mean_absolute_error: 89.0588 - mean_absolute_percentage_error: 52.6236 - val_loss: 13681.9399 - val_mean_squared_error: 13681.9399 - val_mean_absolute_error: 96.3605 - val_mean_absolute_percentage_error: 53.2235\n",
      "Epoch 18/50\n",
      "14884/14884 [==============================] - 3s 222us/step - loss: 10802.4703 - mean_squared_error: 10802.4703 - mean_absolute_error: 85.3408 - mean_absolute_percentage_error: 50.0837 - val_loss: 12911.1916 - val_mean_squared_error: 12911.1916 - val_mean_absolute_error: 92.6516 - val_mean_absolute_percentage_error: 50.8223\n",
      "Epoch 19/50\n",
      "14884/14884 [==============================] - 3s 219us/step - loss: 10127.6111 - mean_squared_error: 10127.6111 - mean_absolute_error: 81.7719 - mean_absolute_percentage_error: 47.7675 - val_loss: 12173.0104 - val_mean_squared_error: 12173.0104 - val_mean_absolute_error: 89.0461 - val_mean_absolute_percentage_error: 48.5821\n",
      "Epoch 20/50\n",
      "14884/14884 [==============================] - 3s 225us/step - loss: 9482.5644 - mean_squared_error: 9482.5644 - mean_absolute_error: 78.3275 - mean_absolute_percentage_error: 45.6387 - val_loss: 11471.8712 - val_mean_squared_error: 11471.8712 - val_mean_absolute_error: 85.5822 - val_mean_absolute_percentage_error: 46.5292\n",
      "Epoch 21/50\n",
      "14884/14884 [==============================] - 3s 229us/step - loss: 8875.8949 - mean_squared_error: 8875.8949 - mean_absolute_error: 75.0587 - mean_absolute_percentage_error: 43.7377 - val_loss: 10803.8490 - val_mean_squared_error: 10803.8490 - val_mean_absolute_error: 82.2508 - val_mean_absolute_percentage_error: 44.6555\n",
      "Epoch 22/50\n",
      "14884/14884 [==============================] - 3s 227us/step - loss: 8304.1647 - mean_squared_error: 8304.1647 - mean_absolute_error: 71.9427 - mean_absolute_percentage_error: 42.0384 - val_loss: 10172.8419 - val_mean_squared_error: 10172.8419 - val_mean_absolute_error: 79.1048 - val_mean_absolute_percentage_error: 43.0035\n",
      "Epoch 23/50\n",
      "14884/14884 [==============================] - 3s 232us/step - loss: 7756.7101 - mean_squared_error: 7756.7101 - mean_absolute_error: 68.8922 - mean_absolute_percentage_error: 40.3068 - val_loss: 9563.4085 - val_mean_squared_error: 9563.4085 - val_mean_absolute_error: 75.9626 - val_mean_absolute_percentage_error: 41.1776\n",
      "Epoch 24/50\n",
      "14884/14884 [==============================] - 3s 223us/step - loss: 7210.0521 - mean_squared_error: 7210.0521 - mean_absolute_error: 65.2949 - mean_absolute_percentage_error: 37.3651 - val_loss: 8961.9186 - val_mean_squared_error: 8961.9186 - val_mean_absolute_error: 72.3439 - val_mean_absolute_percentage_error: 38.2258\n",
      "Epoch 25/50\n"
     ]
    },
    {
     "name": "stdout",
     "output_type": "stream",
     "text": [
      "14884/14884 [==============================] - 3s 215us/step - loss: 6691.0070 - mean_squared_error: 6691.0070 - mean_absolute_error: 61.5715 - mean_absolute_percentage_error: 34.2331 - val_loss: 8395.3603 - val_mean_squared_error: 8395.3603 - val_mean_absolute_error: 68.8555 - val_mean_absolute_percentage_error: 35.5512\n",
      "Epoch 26/50\n",
      "14884/14884 [==============================] - 3s 203us/step - loss: 6211.3712 - mean_squared_error: 6211.3712 - mean_absolute_error: 58.3691 - mean_absolute_percentage_error: 32.0365 - val_loss: 7861.7012 - val_mean_squared_error: 7861.7012 - val_mean_absolute_error: 65.8057 - val_mean_absolute_percentage_error: 33.7366\n",
      "Epoch 27/50\n",
      "14884/14884 [==============================] - 3s 204us/step - loss: 5761.7307 - mean_squared_error: 5761.7307 - mean_absolute_error: 55.3015 - mean_absolute_percentage_error: 30.0273 - val_loss: 7351.8653 - val_mean_squared_error: 7351.8653 - val_mean_absolute_error: 62.8236 - val_mean_absolute_percentage_error: 32.0105\n",
      "Epoch 28/50\n",
      "14884/14884 [==============================] - 3s 216us/step - loss: 5336.1493 - mean_squared_error: 5336.1493 - mean_absolute_error: 52.3853 - mean_absolute_percentage_error: 28.2162 - val_loss: 6873.1980 - val_mean_squared_error: 6873.1980 - val_mean_absolute_error: 59.9544 - val_mean_absolute_percentage_error: 30.2805\n",
      "Epoch 29/50\n",
      "14884/14884 [==============================] - 3s 219us/step - loss: 4935.6460 - mean_squared_error: 4935.6460 - mean_absolute_error: 49.5751 - mean_absolute_percentage_error: 26.5048 - val_loss: 6406.7613 - val_mean_squared_error: 6406.7613 - val_mean_absolute_error: 57.0758 - val_mean_absolute_percentage_error: 28.5809\n",
      "Epoch 30/50\n",
      "14884/14884 [==============================] - 3s 225us/step - loss: 4550.6356 - mean_squared_error: 4550.6356 - mean_absolute_error: 46.8445 - mean_absolute_percentage_error: 24.9034 - val_loss: 5963.1097 - val_mean_squared_error: 5963.1097 - val_mean_absolute_error: 54.4716 - val_mean_absolute_percentage_error: 27.3227\n",
      "Epoch 31/50\n",
      "14884/14884 [==============================] - 3s 223us/step - loss: 4190.1387 - mean_squared_error: 4190.1387 - mean_absolute_error: 44.2174 - mean_absolute_percentage_error: 23.3637 - val_loss: 5545.9966 - val_mean_squared_error: 5545.9966 - val_mean_absolute_error: 51.9363 - val_mean_absolute_percentage_error: 26.0496\n",
      "Epoch 32/50\n",
      "14884/14884 [==============================] - 3s 227us/step - loss: 3852.5275 - mean_squared_error: 3852.5275 - mean_absolute_error: 41.7044 - mean_absolute_percentage_error: 21.9487 - val_loss: 5151.0518 - val_mean_squared_error: 5151.0518 - val_mean_absolute_error: 49.1366 - val_mean_absolute_percentage_error: 24.1607\n",
      "Epoch 33/50\n",
      "14884/14884 [==============================] - 3s 229us/step - loss: 3540.7926 - mean_squared_error: 3540.7926 - mean_absolute_error: 39.2930 - mean_absolute_percentage_error: 20.5799 - val_loss: 4781.1025 - val_mean_squared_error: 4781.1025 - val_mean_absolute_error: 47.0359 - val_mean_absolute_percentage_error: 23.5030\n",
      "Epoch 34/50\n",
      "14884/14884 [==============================] - 4s 235us/step - loss: 3246.9404 - mean_squared_error: 3246.9404 - mean_absolute_error: 36.9843 - mean_absolute_percentage_error: 19.3118 - val_loss: 4431.0466 - val_mean_squared_error: 4431.0466 - val_mean_absolute_error: 44.3978 - val_mean_absolute_percentage_error: 21.7614\n",
      "Epoch 35/50\n",
      "14884/14884 [==============================] - 4s 239us/step - loss: 2976.6054 - mean_squared_error: 2976.6054 - mean_absolute_error: 34.8267 - mean_absolute_percentage_error: 18.1518 - val_loss: 4099.5174 - val_mean_squared_error: 4099.5174 - val_mean_absolute_error: 42.1748 - val_mean_absolute_percentage_error: 20.7384\n",
      "Epoch 36/50\n",
      "14884/14884 [==============================] - 4s 239us/step - loss: 2722.6781 - mean_squared_error: 2722.6781 - mean_absolute_error: 32.7683 - mean_absolute_percentage_error: 17.0685 - val_loss: 3789.4434 - val_mean_squared_error: 3789.4434 - val_mean_absolute_error: 40.0796 - val_mean_absolute_percentage_error: 19.7472\n",
      "Epoch 37/50\n",
      "14884/14884 [==============================] - 4s 248us/step - loss: 2488.9050 - mean_squared_error: 2488.9050 - mean_absolute_error: 30.8280 - mean_absolute_percentage_error: 16.0666 - val_loss: 3512.5042 - val_mean_squared_error: 3512.5042 - val_mean_absolute_error: 38.6157 - val_mean_absolute_percentage_error: 19.4303\n",
      "Epoch 38/50\n",
      "14884/14884 [==============================] - 4s 236us/step - loss: 2275.4556 - mean_squared_error: 2275.4556 - mean_absolute_error: 29.0432 - mean_absolute_percentage_error: 15.1629 - val_loss: 3240.3850 - val_mean_squared_error: 3240.3850 - val_mean_absolute_error: 36.1420 - val_mean_absolute_percentage_error: 17.6896\n",
      "Epoch 39/50\n",
      "14884/14884 [==============================] - 4s 237us/step - loss: 2077.0973 - mean_squared_error: 2077.0973 - mean_absolute_error: 27.3253 - mean_absolute_percentage_error: 14.2991 - val_loss: 2982.9017 - val_mean_squared_error: 2982.9017 - val_mean_absolute_error: 34.1331 - val_mean_absolute_percentage_error: 16.7497\n",
      "Epoch 40/50\n",
      "14884/14884 [==============================] - 4s 242us/step - loss: 1891.1193 - mean_squared_error: 1891.1193 - mean_absolute_error: 25.7128 - mean_absolute_percentage_error: 13.5146 - val_loss: 2748.8454 - val_mean_squared_error: 2748.8454 - val_mean_absolute_error: 32.4439 - val_mean_absolute_percentage_error: 16.1032\n",
      "Epoch 41/50\n",
      "14884/14884 [==============================] - 4s 235us/step - loss: 1722.2204 - mean_squared_error: 1722.2204 - mean_absolute_error: 24.2378 - mean_absolute_percentage_error: 12.8088 - val_loss: 2536.4947 - val_mean_squared_error: 2536.4947 - val_mean_absolute_error: 31.0885 - val_mean_absolute_percentage_error: 15.6334\n",
      "Epoch 42/50\n",
      "14884/14884 [==============================] - 4s 238us/step - loss: 1567.2745 - mean_squared_error: 1567.2745 - mean_absolute_error: 22.8646 - mean_absolute_percentage_error: 12.1660 - val_loss: 2330.4145 - val_mean_squared_error: 2330.4145 - val_mean_absolute_error: 29.0853 - val_mean_absolute_percentage_error: 14.4445\n",
      "Epoch 43/50\n",
      "14884/14884 [==============================] - 4s 239us/step - loss: 1420.9471 - mean_squared_error: 1420.9471 - mean_absolute_error: 21.5017 - mean_absolute_percentage_error: 11.5114 - val_loss: 2139.7949 - val_mean_squared_error: 2139.7949 - val_mean_absolute_error: 28.1431 - val_mean_absolute_percentage_error: 14.5677\n",
      "Epoch 44/50\n",
      "14884/14884 [==============================] - 4s 236us/step - loss: 1287.7458 - mean_squared_error: 1287.7458 - mean_absolute_error: 20.2894 - mean_absolute_percentage_error: 10.9850 - val_loss: 1958.4738 - val_mean_squared_error: 1958.4738 - val_mean_absolute_error: 26.0669 - val_mean_absolute_percentage_error: 13.1546\n",
      "Epoch 45/50\n",
      "14884/14884 [==============================] - 4s 237us/step - loss: 1166.6679 - mean_squared_error: 1166.6679 - mean_absolute_error: 19.1073 - mean_absolute_percentage_error: 10.4457 - val_loss: 1794.5948 - val_mean_squared_error: 1794.5948 - val_mean_absolute_error: 24.9129 - val_mean_absolute_percentage_error: 12.8868\n",
      "Epoch 46/50\n",
      "14884/14884 [==============================] - 4s 237us/step - loss: 1056.8405 - mean_squared_error: 1056.8405 - mean_absolute_error: 18.0139 - mean_absolute_percentage_error: 9.9475 - val_loss: 1707.5751 - val_mean_squared_error: 1707.5751 - val_mean_absolute_error: 24.4867 - val_mean_absolute_percentage_error: 12.6210\n",
      "Epoch 47/50\n",
      "14884/14884 [==============================] - 3s 232us/step - loss: 958.1395 - mean_squared_error: 958.1395 - mean_absolute_error: 17.0070 - mean_absolute_percentage_error: 9.5111 - val_loss: 1556.3880 - val_mean_squared_error: 1556.3880 - val_mean_absolute_error: 23.5129 - val_mean_absolute_percentage_error: 12.1186\n",
      "Epoch 48/50\n",
      "14884/14884 [==============================] - 3s 233us/step - loss: 867.6940 - mean_squared_error: 867.6940 - mean_absolute_error: 16.1043 - mean_absolute_percentage_error: 9.1201 - val_loss: 1380.4145 - val_mean_squared_error: 1380.4145 - val_mean_absolute_error: 21.1428 - val_mean_absolute_percentage_error: 11.0910\n",
      "Epoch 49/50\n"
     ]
    },
    {
     "name": "stdout",
     "output_type": "stream",
     "text": [
      "14884/14884 [==============================] - 3s 206us/step - loss: 770.9774 - mean_squared_error: 770.9774 - mean_absolute_error: 15.2182 - mean_absolute_percentage_error: 8.8272 - val_loss: 1250.9424 - val_mean_squared_error: 1250.9424 - val_mean_absolute_error: 20.5926 - val_mean_absolute_percentage_error: 11.4804\n",
      "Epoch 50/50\n",
      "14884/14884 [==============================] - 3s 208us/step - loss: 696.5423 - mean_squared_error: 696.5423 - mean_absolute_error: 14.3106 - mean_absolute_percentage_error: 8.3969 - val_loss: 1152.1417 - val_mean_squared_error: 1152.1417 - val_mean_absolute_error: 19.4655 - val_mean_absolute_percentage_error: 10.5231\n"
     ]
    },
    {
     "data": {
      "text/plain": [
       "<keras.callbacks.History at 0x1a22c0ae48>"
      ]
     },
     "execution_count": 33,
     "metadata": {},
     "output_type": "execute_result"
    }
   ],
   "source": [
    "model.fit(X_train, y_train, epochs=50, batch_size=128, validation_data=(X_test, y_test))"
   ]
  },
  {
   "cell_type": "code",
   "execution_count": 60,
   "metadata": {},
   "outputs": [
    {
     "data": {
      "text/plain": [
       "array([[117.754906, 118.755005, 119.94092 ]], dtype=float32)"
      ]
     },
     "execution_count": 60,
     "metadata": {},
     "output_type": "execute_result"
    }
   ],
   "source": [
    "test_arr = np.array([150,155,156,165,170,400,178,100000000,600,40]).transpose()\n",
    "test_arr = test_arr[np.newaxis,:,np.newaxis]\n",
    "model.predict(test_arr)"
   ]
  }
 ],
 "metadata": {
  "kernelspec": {
   "display_name": "Python 3",
   "language": "python",
   "name": "python3"
  },
  "language_info": {
   "codemirror_mode": {
    "name": "ipython",
    "version": 3
   },
   "file_extension": ".py",
   "mimetype": "text/x-python",
   "name": "python",
   "nbconvert_exporter": "python",
   "pygments_lexer": "ipython3",
   "version": "3.6.4"
  }
 },
 "nbformat": 4,
 "nbformat_minor": 2
}
